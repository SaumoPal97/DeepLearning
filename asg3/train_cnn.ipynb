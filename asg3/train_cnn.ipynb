{
 "cells": [
  {
   "cell_type": "code",
   "execution_count": null,
   "metadata": {
    "collapsed": true
   },
   "outputs": [],
   "source": [
    "'''\n",
    "Deep Learning Programming Assignment 2\n",
    "--------------------------------------\n",
    "Name: Vishnu Dutt Sharma\n",
    "Roll No.: 12EC35018\n",
    "\n",
    "======================================\n",
    "Complete the functions in this file.\n",
    "Note: Do not change the function signatures of the train\n",
    "and test functions\n",
    "'''"
   ]
  },
  {
   "cell_type": "code",
   "execution_count": null,
   "metadata": {
    "collapsed": true
   },
   "outputs": [],
   "source": [
    "import numpy as np\n",
    "import tensorflow as tf"
   ]
  },
  {
   "cell_type": "code",
   "execution_count": null,
   "metadata": {
    "collapsed": true
   },
   "outputs": [],
   "source": [
    "def train(trainX, trainY):\n",
    "    \n",
    "    '''\n",
    "    Complete this function.\n",
    "    '''"
   ]
  },
  {
   "cell_type": "code",
   "execution_count": null,
   "metadata": {
    "collapsed": true
   },
   "outputs": [],
   "source": [
    "def test(testX):\n",
    "    '''\n",
    "    Complete this function.\n",
    "    This function must read the weight files and\n",
    "    return the predicted labels.\n",
    "    The returned object must be a 1-dimensional numpy array of\n",
    "    length equal to the number of examples. The i-th element\n",
    "    of the array should contain the label of the i-th test\n",
    "    example.\n",
    "    '''\n",
    "\n",
    "    return np.zeros(testX.shape[0])"
   ]
  }
 ],
 "metadata": {
  "kernelspec": {
   "display_name": "Python 2",
   "language": "python",
   "name": "python2"
  },
  "language_info": {
   "codemirror_mode": {
    "name": "ipython",
    "version": 2
   },
   "file_extension": ".py",
   "mimetype": "text/x-python",
   "name": "python",
   "nbconvert_exporter": "python",
   "pygments_lexer": "ipython2",
   "version": "2.7.6"
  }
 },
 "nbformat": 4,
 "nbformat_minor": 1
}
