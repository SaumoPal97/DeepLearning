{
 "cells": [
  {
   "cell_type": "code",
   "execution_count": null,
   "metadata": {
    "collapsed": false
   },
   "outputs": [],
   "source": [
    "'''\n",
    "Deep Learning Programming Assignment 1\n",
    "--------------------------------------\n",
    "Name: Vishnu Dutt Sharma\n",
    "Roll No.: 12EC35018\n",
    "\n",
    "\n",
    "======================================\n",
    "\n",
    "Problem Statement:\n",
    "Implement a simple 1 hidden layer MLP WITHOUT using any deep learning library\n",
    "for predicting MNIST images. You are allowed to use linear algebra\n",
    "libraries like numpy.\n",
    "\n",
    "Resources:\n",
    "1. https://ift6266h16.wordpress.com/2016/01/11/first-assignment-mlp-on-mnist/\n",
    "2. https://github.com/tfjgeorge/ift6266/blob/master/notebooks/MLP.ipynb\n",
    "    (In french. But the same repository has other useful ipython notebooks)\n",
    "\n",
    "You might want to first code in an ipython notebook and later copy-paste\n",
    "the code here.\n",
    "\n",
    "\n",
    "\n",
    "======================================\n",
    "\n",
    "Instructions:\n",
    "1. Download the MNIST dataset from http://yann.lecun.com/exdb/mnist/\n",
    "    (four files).\n",
    "2. Extract all the files into a folder named `data' just outside\n",
    "    the folder containing the main.py file. This code reads the\n",
    "    data files from the folder '../data'.\n",
    "3. Complete the functions in the train.py file. You might also\n",
    "    create other functions for your convenience, but do not change anything\n",
    "    in the main.py file or the function signatures of the train and test\n",
    "    functions in the train.py file.\n",
    "4. The train function must train the neural network given the training\n",
    "    examples and save the in a folder named `weights' in the same\n",
    "    folder as main.py\n",
    "5. The test function must read the saved weights and given the test\n",
    "    examples it must return the predicted labels.\n",
    "6. Submit your project folder with the weights. Note: Don't include the\n",
    "    data folder, which is anyway outside your project folder.\n",
    "\n",
    "Submission Instructions:\n",
    "1. Fill your name and roll no in the space provided above.\n",
    "2. Name your folder in format <Roll No>_<First Name>.\n",
    "    For example 12CS10001_Rohan\n",
    "3. Submit a zipped format of the file (.zip only).\n",
    "'''"
   ]
  },
  {
   "cell_type": "code",
   "execution_count": 1,
   "metadata": {
    "collapsed": false
   },
   "outputs": [],
   "source": [
    "import numpy as np\n",
    "import os\n",
    "import train"
   ]
  },
  {
   "cell_type": "code",
   "execution_count": 2,
   "metadata": {
    "collapsed": false
   },
   "outputs": [],
   "source": [
    "def load_mnist():\n",
    "    data_dir = '../data'\n",
    "\n",
    "    fd = open(os.path.join(data_dir, 'train-images.idx3-ubyte'))\n",
    "    loaded = np.fromfile(file=fd, dtype=np.uint8)\n",
    "    trX = loaded[16:].reshape((60000, 28, 28, 1)).astype(np.float)\n",
    "\n",
    "    fd = open(os.path.join(data_dir, 'train-labels.idx1-ubyte'))\n",
    "    loaded = np.fromfile(file=fd, dtype=np.uint8)\n",
    "    trY = loaded[8:].reshape((60000)).astype(np.int)\n",
    "\n",
    "    fd = open(os.path.join(data_dir, 't10k-images.idx3-ubyte'))\n",
    "    loaded = np.fromfile(file=fd, dtype=np.uint8)\n",
    "    teX = loaded[16:].reshape((10000, 28, 28, 1)).astype(np.float)\n",
    "\n",
    "    fd = open(os.path.join(data_dir, 't10k-labels.idx1-ubyte'))\n",
    "    loaded = np.fromfile(file=fd, dtype=np.uint8)\n",
    "    teY = loaded[8:].reshape((10000)).astype(np.int)\n",
    "\n",
    "    trY = np.asarray(trY)\n",
    "    teY = np.asarray(teY)\n",
    "\n",
    "    perm = np.random.permutation(trY.shape[0])\n",
    "    trX = trX[perm]\n",
    "    trY = trY[perm]\n",
    "\n",
    "    perm = np.random.permutation(teY.shape[0])\n",
    "    teX = teX[perm]\n",
    "    teY = teY[perm]\n",
    "\n",
    "    return trX, trY, teX, teY"
   ]
  },
  {
   "cell_type": "code",
   "execution_count": 3,
   "metadata": {
    "collapsed": false
   },
   "outputs": [],
   "source": [
    "def print_digit(digit_pixels, label='?'):\n",
    "    for i in range(28):\n",
    "        for j in range(28):\n",
    "            if digit_pixels[i, j] > 128:\n",
    "                print '#',\n",
    "            else:\n",
    "                print '.',\n",
    "        print ''\n",
    "\n",
    "    print 'Label: ', label\n"
   ]
  },
  {
   "cell_type": "code",
   "execution_count": 318,
   "metadata": {
    "collapsed": false
   },
   "outputs": [],
   "source": [
    "def softmax(vec):\n",
    "    evec = np.exp(vec - np.max(vec))\n",
    "    s = np.sum(evec)\n",
    "    return evec/s\n",
    "\n",
    "def sigmoid(vec):\n",
    "    evec = 1 + np.exp(-vec)\n",
    "    return 1/evec\n",
    "\n",
    "\n",
    "def train(trainX, trainY):\n",
    "    '''\n",
    "    Complete this function.\n",
    "    '''\n",
    "    learning_rate_1 = 0.01\n",
    "    learning_rate_2 = 0.01\n",
    "    hidden_size = 500\n",
    "    batch_size = 100\n",
    "    epch = 2\n",
    "\n",
    "    \n",
    "    flat_size = trainX.shape[1]*trainX.shape[2]\n",
    "    num_sample = trainX.shape[0]\n",
    "    \n",
    "#     hidden_layer = np.array([0]*hidden_layer_size)\n",
    "    \n",
    "    \n",
    "    x = np.ndarray((num_sample, 1 + flat_size))\n",
    "\n",
    "    \n",
    "    for row in range(num_sample):\n",
    "        x[row, 0] = 1\n",
    "        x[row, 1:] = np.reshape(trainX[row], flat_size)\n",
    "   \n",
    "    w1 = np.load('w1_.npy')\n",
    "    w2 = np.load('w2_.npy')\n",
    "#     w1 = np.random.rand( hidden_size, flat_size+1)/10000\n",
    "#     w2 = np.random.rand( 10, hidden_size + 1 )/10000\n",
    "    \n",
    "\n",
    "    \n",
    "    for epoch in range(epch):\n",
    "        \n",
    "        for itr in range(trainX.shape[0]/batch_size):\n",
    "#             sampleSet = range(itr*batch_size, min((itr+1)batch_size, trainX.shape[0]))\n",
    "            \n",
    "            batch_total = range(itr*batch_size, min((itr+1)*batch_size, trainX.shape[0]))\n",
    "            \n",
    "            sum_delW1 = np.zeros(w1.shape)\n",
    "            sum_delW2 = np.zeros(w2.shape)\n",
    "            \n",
    "#             for sample in sampleSet:\n",
    "            for sample in batch_total:\n",
    "#                 xi = np.ndarray((1, 785))\n",
    "#                 xi[0,:] = np.transpose(x[sample, :])\n",
    "                batch = x[sample]\n",
    "    \n",
    "                sig_layer = np.apply_along_axis(sigmoid, 0, np.dot(w1, batch))\n",
    "                sig_layer = np.append(1, sig_layer)\n",
    "                \n",
    "                out_1 = np.dot(w2, sig_layer)\n",
    "                sm_layer = softmax(out_1)\n",
    "                \n",
    "                grad1 = sm_layer.copy()\n",
    "                \n",
    "                grad1[trainY[sample]] = grad1[trainY[sample]] - 1\n",
    "        \n",
    "                delW2 = np.dot(grad1.reshape((10,1)), sig_layer.reshape((1, hidden_size+1)))\n",
    "        \n",
    "#                 print grad1.shape\n",
    "#                 print w2.shape\n",
    "#                 print sig_layer.shape\n",
    "#                 return\n",
    "                temp0 = np.dot(w2.transpose(),grad1) # 801 x 1\n",
    "                temp1 = sig_layer*(1-sig_layer)*temp0\n",
    "        \n",
    "                delW1 = np.dot(temp1.reshape((temp1.shape[0], 1)), batch.reshape((1, batch.shape[0])))\n",
    "                \n",
    "                sum_delW1 += delW1[1:, :]\n",
    "                sum_delW2 += delW2\n",
    "\n",
    "    #             w1 = w1 - eta_1*delW1[:, 1:]\n",
    "    #             w2 = w2 - eta_2*delW2\n",
    "            w1 = w1 - learning_rate_1*sum_delW1/batch_size\n",
    "            w2 = w2 - learning_rate_2*sum_delW2/batch_size\n",
    "            \n",
    "            \n",
    "        print 'Epoch: ', epoch       \n",
    "\n",
    "        \n",
    "        np.save('w1_.npy', w1)\n",
    "        np.save('w2_.npy', w2)\n",
    "        \n"
   ]
  },
  {
   "cell_type": "code",
   "execution_count": 311,
   "metadata": {
    "collapsed": false
   },
   "outputs": [],
   "source": [
    "def test(testX):\n",
    "    '''\n",
    "    Complete this function.\n",
    "    This function must read the weight files and\n",
    "    return the predicted labels.\n",
    "    The returned object must be a 1-dimensional numpy array of\n",
    "    length equal to the number of examples. The i-th element\n",
    "    of the array should contain the label of the i-th test\n",
    "    example.\n",
    "    '''\n",
    "    w1 = np.load('w1_.npy')\n",
    "    w2 = np.load('w2_.npy')\n",
    "    flat_size = testX.shape[1]*testX.shape[2]\n",
    "    \n",
    "    num_sample = testX.shape[0]\n",
    "    \n",
    "    \n",
    "    x = np.ndarray((num_sample, 1 + flat_size))\n",
    "\n",
    "    for row in range(num_sample):\n",
    "        x[row, 0] = 1\n",
    "        x[row, 1:] = np.reshape(testX[row], flat_size)\n",
    "   \n",
    "    y = np.zeros(testX.shape[0])\n",
    "    \n",
    "    for sample in range(num_sample):\n",
    "        xi = x[sample]\n",
    "        h = sigmoid(np.dot(w1, xi))\n",
    "        h = np.append(1, h)\n",
    "        yi = np.dot(w2, h)\n",
    "        pi = softmax(yi)\n",
    "        y[sample] = np.argmax(pi)\n",
    "    return y"
   ]
  },
  {
   "cell_type": "code",
   "execution_count": 312,
   "metadata": {
    "collapsed": false
   },
   "outputs": [],
   "source": [
    "def main():\n",
    "    trainX, trainY, testX, testY = load_mnist()\n",
    "    print \"Shapes: \", trainX.shape, trainY.shape, testX.shape, testY.shape\n",
    "\n",
    "#     print \"\\nDigit sample\"\n",
    "#     print_digit(trainX[1], trainY[1])\n",
    "#     print trainX[0].shape\n",
    "      \n",
    "#     train(trainX, trainY)\n",
    "    train(trainX, trainY)\n",
    "#     labels = test(testX)\n",
    "#     print 'labels',labels[0]\n",
    "#     print 'test',testY[0]\n",
    "    labels = test(testX)\n",
    "    accuracy = np.mean((labels == testY)) * 100.0\n",
    "    print \"\\nTest accuracy: %lf%%\" % accuracy"
   ]
  },
  {
   "cell_type": "code",
   "execution_count": 319,
   "metadata": {
    "collapsed": false
   },
   "outputs": [
    {
     "name": "stdout",
     "output_type": "stream",
     "text": [
      "Shapes:  (60000, 28, 28, 1) (60000,) (10000, 28, 28, 1) (10000,)\n",
      "Epoch:  0\n",
      "Epoch:  1\n",
      "\n",
      "Test accuracy: 96.010000%\n"
     ]
    }
   ],
   "source": [
    "if __name__ == '__main__':\n",
    "    main()\n",
    "    "
   ]
  },
  {
   "cell_type": "code",
   "execution_count": 122,
   "metadata": {
    "collapsed": false
   },
   "outputs": [
    {
     "ename": "NameError",
     "evalue": "name 'testX' is not defined",
     "output_type": "error",
     "traceback": [
      "\u001b[0;31m---------------------------------------------------------------------------\u001b[0m",
      "\u001b[0;31mNameError\u001b[0m                                 Traceback (most recent call last)",
      "\u001b[0;32m<ipython-input-122-24528ddadf3c>\u001b[0m in \u001b[0;36m<module>\u001b[0;34m()\u001b[0m\n\u001b[0;32m----> 1\u001b[0;31m \u001b[0mlabels\u001b[0m \u001b[0;34m=\u001b[0m \u001b[0mtest\u001b[0m\u001b[0;34m(\u001b[0m\u001b[0mtestX\u001b[0m\u001b[0;34m)\u001b[0m\u001b[0;34m\u001b[0m\u001b[0m\n\u001b[0m\u001b[1;32m      2\u001b[0m \u001b[0;32mprint\u001b[0m \u001b[0;34m'labels'\u001b[0m\u001b[0;34m,\u001b[0m\u001b[0mlabels\u001b[0m\u001b[0;34m[\u001b[0m\u001b[0;36m0\u001b[0m\u001b[0;34m]\u001b[0m\u001b[0;34m\u001b[0m\u001b[0m\n\u001b[1;32m      3\u001b[0m \u001b[0;32mprint\u001b[0m \u001b[0;34m'test'\u001b[0m\u001b[0;34m,\u001b[0m\u001b[0mtestY\u001b[0m\u001b[0;34m[\u001b[0m\u001b[0;36m0\u001b[0m\u001b[0;34m]\u001b[0m\u001b[0;34m\u001b[0m\u001b[0m\n\u001b[1;32m      4\u001b[0m \u001b[0maccuracy\u001b[0m \u001b[0;34m=\u001b[0m \u001b[0mnp\u001b[0m\u001b[0;34m.\u001b[0m\u001b[0mmean\u001b[0m\u001b[0;34m(\u001b[0m\u001b[0;34m(\u001b[0m\u001b[0mlabels\u001b[0m \u001b[0;34m==\u001b[0m \u001b[0mtestY\u001b[0m\u001b[0;34m)\u001b[0m\u001b[0;34m)\u001b[0m \u001b[0;34m*\u001b[0m \u001b[0;36m100.0\u001b[0m\u001b[0;34m\u001b[0m\u001b[0m\n\u001b[1;32m      5\u001b[0m \u001b[0;32mprint\u001b[0m \u001b[0;34m\"\\nTest accuracy: %lf%%\"\u001b[0m \u001b[0;34m%\u001b[0m \u001b[0maccuracy\u001b[0m\u001b[0;34m\u001b[0m\u001b[0m\n",
      "\u001b[0;31mNameError\u001b[0m: name 'testX' is not defined"
     ]
    }
   ],
   "source": []
  },
  {
   "cell_type": "code",
   "execution_count": null,
   "metadata": {
    "collapsed": false
   },
   "outputs": [],
   "source": []
  }
 ],
 "metadata": {
  "anaconda-cloud": {},
  "kernelspec": {
   "display_name": "Python 2",
   "language": "python",
   "name": "python2"
  },
  "language_info": {
   "codemirror_mode": {
    "name": "ipython",
    "version": 2
   },
   "file_extension": ".py",
   "mimetype": "text/x-python",
   "name": "python",
   "nbconvert_exporter": "python",
   "pygments_lexer": "ipython2",
   "version": "2.7.6"
  }
 },
 "nbformat": 4,
 "nbformat_minor": 1
}
