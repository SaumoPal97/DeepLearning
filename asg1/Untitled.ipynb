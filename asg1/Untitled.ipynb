{
 "cells": [
  {
   "cell_type": "code",
   "execution_count": 2,
   "metadata": {
    "collapsed": true
   },
   "outputs": [],
   "source": [
    "import numpy as np"
   ]
  },
  {
   "cell_type": "code",
   "execution_count": 7,
   "metadata": {
    "collapsed": false
   },
   "outputs": [
    {
     "name": "stdout",
     "output_type": "stream",
     "text": [
      "[[ 0.55816567  0.15534383  0.25409463  0.84228315  0.27134083]\n",
      " [ 0.29794503  0.80297564  0.33712733  0.01701469  0.10711934]\n",
      " [ 0.44741376  0.8560588   0.28153865  0.64863188  0.65742424]]\n",
      "[[ 2.08122811  2.08122811]\n",
      " [ 1.56218202  1.56218202]\n",
      " [ 2.89106733  2.89106733]]\n"
     ]
    }
   ],
   "source": [
    "A = np.random.rand(3,5)\n",
    "B = np.ones((5, 2))\n",
    "\n",
    "print A\n",
    "print np.dot(A,B)"
   ]
  }
 ],
 "metadata": {
  "kernelspec": {
   "display_name": "Python 2",
   "language": "python",
   "name": "python2"
  },
  "language_info": {
   "codemirror_mode": {
    "name": "ipython",
    "version": 2
   },
   "file_extension": ".py",
   "mimetype": "text/x-python",
   "name": "python",
   "nbconvert_exporter": "python",
   "pygments_lexer": "ipython2",
   "version": "2.7.6"
  }
 },
 "nbformat": 4,
 "nbformat_minor": 1
}
