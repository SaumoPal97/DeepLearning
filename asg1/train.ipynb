{
 "cells": [
  {
   "cell_type": "code",
   "execution_count": 1,
   "metadata": {
    "collapsed": false
   },
   "outputs": [
    {
     "data": {
      "text/plain": [
       "'\\nDeep Learning Programming Assignment 1\\n--------------------------------------\\nName: Vishnu Dutt Sharma\\nRoll No.: 12EC35018\\n\\n======================================\\nComplete the functions in this file.\\nNote: Do not change the function signatures of the train\\nand test functions\\n'"
      ]
     },
     "execution_count": 1,
     "metadata": {},
     "output_type": "execute_result"
    }
   ],
   "source": [
    "'''\n",
    "Deep Learning Programming Assignment 1\n",
    "--------------------------------------\n",
    "Name: Vishnu Dutt Sharma\n",
    "Roll No.: 12EC35018\n",
    "\n",
    "======================================\n",
    "Complete the functions in this file.\n",
    "Note: Do not change the function signatures of the train\n",
    "and test functions\n",
    "'''"
   ]
  },
  {
   "cell_type": "code",
   "execution_count": 2,
   "metadata": {
    "collapsed": true
   },
   "outputs": [],
   "source": [
    "import numpy as np"
   ]
  },
  {
   "cell_type": "code",
   "execution_count": 5,
   "metadata": {
    "collapsed": true
   },
   "outputs": [],
   "source": [
    "def softmax(arr):\n",
    "    prob = np.exp(arr - np.max(arr))\n",
    "    sum = np.sum(prob)\n",
    "    return prob/sum\n",
    "\n",
    "def sigmoid(arr):\n",
    "    return 1/(1 + np.exp(-arr))\n",
    "    \n",
    "\n",
    "\n",
    "def train(trainX, trainY):\n",
    "\n",
    "    learning_rate_1 = 0.01\n",
    "    learning_rate_2 = 0.01\n",
    "    hidden_size = 1000\n",
    "    batch_size = 30\n",
    "    epch = 2\n",
    "\n",
    "    \n",
    "    flat_size = trainX.shape[1]*trainX.shape[2]\n",
    "    num_sample = trainX.shape[0]\n",
    "    \n",
    "    x = np.ndarray((num_sample, 1 + flat_size))\n",
    "    \n",
    "    for row in range(num_sample):\n",
    "        x[row, 0] = 1\n",
    "        x[row, 1:] = np.reshape(trainX[row], flat_size)\n",
    "   \n",
    "    w1 = np.random.rand( hidden_size, flat_size+1)/10000\n",
    "    w2 = np.random.rand( 10, hidden_size + 1 )/10000\n",
    "    \n",
    "    \n",
    "    for epoch in range(epch):\n",
    "        for itr in range(trainX.shape[0]/batch_size):            \n",
    "            batch_total = range(itr*batch_size, min((itr+1)*batch_size, trainX.shape[0]))\n",
    "            \n",
    "            sum_delW1 = np.zeros(w1.shape)\n",
    "            sum_delW2 = np.zeros(w2.shape)\n",
    "            \n",
    "            for sample in batch_total:\n",
    "                batch = x[sample]\n",
    "    \n",
    "                sig_layer = sigmoid(np.dot(w1, batch))\n",
    "                sig_layer = np.append(1, sig_layer)\n",
    "                \n",
    "                out_1 = np.dot(w2, sig_layer)\n",
    "                sm_layer = softmax(out_1)\n",
    "\n",
    "                grad1 = sm_layer.copy()\n",
    "                grad1[trainY[sample]] = grad1[trainY[sample]] - 1\n",
    "        \n",
    "                delW2 = np.dot(grad1.reshape((10,1)), sig_layer.reshape((1, hidden_size+1)))\n",
    "        \n",
    "                t0 = np.dot(w2.transpose(),grad1) \n",
    "                t1 = sig_layer*(1-sig_layer)*t0\n",
    "        \n",
    "                delW1 = np.dot(t1.reshape((t1.shape[0], 1)), batch.reshape((1, batch.shape[0])))\n",
    "                \n",
    "                sum_delW1 += delW1[1:, :]\n",
    "                sum_delW2 += delW2\n",
    "\n",
    "                \n",
    "            w1 = w1 - learning_rate_1*sum_delW1/batch_size\n",
    "            w2 = w2 - learning_rate_2*sum_delW2/batch_size\n",
    "            \n",
    "            \n",
    "        print 'Epoch: ', epoch       \n",
    "\n",
    "        \n",
    "        np.save('w1.npy', w1)\n",
    "        np.save('w2.npy', w2)"
   ]
  },
  {
   "cell_type": "code",
   "execution_count": 4,
   "metadata": {
    "collapsed": true
   },
   "outputs": [],
   "source": [
    "def test(testX):\n",
    "    w1 = np.load('w1.npy')\n",
    "    w2 = np.load('w2.npy')\n",
    "    flat_size = testX.shape[1]*testX.shape[2]\n",
    "    \n",
    "    num_sample = testX.shape[0]\n",
    "    \n",
    "    x = np.ndarray((num_sample, 1 + flat_size))\n",
    "\n",
    "    for row in range(num_sample):\n",
    "        x[row, 0] = 1\n",
    "        x[row, 1:] = np.reshape(testX[row], flat_size)\n",
    "   \n",
    "    y = np.zeros(testX.shape[0])\n",
    "    \n",
    "    for sample in range(num_sample):\n",
    "        xi = x[sample]\n",
    "        sig_layer = sigmoid(np.dot(w1, xi))\n",
    "        sig_layer = np.append(1, sig_layer)\n",
    "        out = np.dot(w2, sig_layer)\n",
    "        sm_layer = softmax(out)\n",
    "        y[sample] = np.argmax(sm_layer)\n",
    "        \n",
    "    return y"
   ]
  }
 ],
 "metadata": {
  "anaconda-cloud": {},
  "kernelspec": {
   "display_name": "Python 2",
   "language": "python",
   "name": "python2"
  },
  "language_info": {
   "codemirror_mode": {
    "name": "ipython",
    "version": 2
   },
   "file_extension": ".py",
   "mimetype": "text/x-python",
   "name": "python",
   "nbconvert_exporter": "python",
   "pygments_lexer": "ipython2",
   "version": "2.7.6"
  }
 },
 "nbformat": 4,
 "nbformat_minor": 1
}
