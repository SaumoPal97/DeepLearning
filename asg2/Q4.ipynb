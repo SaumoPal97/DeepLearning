{
 "cells": [
  {
   "cell_type": "code",
   "execution_count": 1,
   "metadata": {
    "collapsed": false
   },
   "outputs": [],
   "source": [
    "import pickle\n",
    "import re\n",
    "import numpy as np\n",
    "import pandas as pd"
   ]
  },
  {
   "cell_type": "code",
   "execution_count": 2,
   "metadata": {
    "collapsed": false
   },
   "outputs": [],
   "source": [
    "fastText_vectors = {}\n",
    "with open('fastText_vectors.txt', 'r') as f_handle:\n",
    "    for line in f_handle:\n",
    "        pieces = line[:-2].split(' ')\n",
    "        fastText_vectors[pieces[0]] = np.array([float(fs) for fs in pieces[1:]])"
   ]
  },
  {
   "cell_type": "code",
   "execution_count": 3,
   "metadata": {
    "collapsed": false
   },
   "outputs": [],
   "source": [
    "lazaridou_vectors = {}\n",
    "with open('vector_lazaridou.txt', 'r') as f_handle:\n",
    "    for line in f_handle:\n",
    "        line = re.sub('[\\[\\],]', '', line)\n",
    "        # print(line)\n",
    "        pieces = line[:-2].split(' ')\n",
    "        # print(pieces)\n",
    "        lazaridou_vectors[pieces[0]] = np.array([float(fs) for fs in pieces[1:]])"
   ]
  },
  {
   "cell_type": "code",
   "execution_count": 4,
   "metadata": {
    "collapsed": false
   },
   "outputs": [
    {
     "name": "stdout",
     "output_type": "stream",
     "text": [
      "14656\n",
      "14656\n",
      "(200,)\n",
      "(350,)\n"
     ]
    }
   ],
   "source": [
    "print(len(lazaridou_vectors))\n",
    "print(len(fastText_vectors))\n",
    "print(fastText_vectors['fawn'].shape)\n",
    "print(lazaridou_vectors['fawn'].shape)\n",
    "\n"
   ]
  },
  {
   "cell_type": "code",
   "execution_count": 5,
   "metadata": {
    "collapsed": false
   },
   "outputs": [],
   "source": [
    "df_wordlist = pd.read_csv('wordList.csv', header=0, names=['Index', 'affix', 'derived', 'source'])"
   ]
  },
  {
   "cell_type": "code",
   "execution_count": 6,
   "metadata": {
    "collapsed": false
   },
   "outputs": [
    {
     "data": {
      "text/plain": [
       "(8075, 4)"
      ]
     },
     "execution_count": 6,
     "metadata": {},
     "output_type": "execute_result"
    }
   ],
   "source": [
    "df_wordlist.shape"
   ]
  },
  {
   "cell_type": "code",
   "execution_count": 7,
   "metadata": {
    "collapsed": false
   },
   "outputs": [
    {
     "name": "stdout",
     "output_type": "stream",
     "text": [
      "54\n"
     ]
    }
   ],
   "source": [
    "affix_list = list(df_wordlist['affix'].unique())\n",
    "print(len(affix_list))\n",
    "affix2index_dict = {}\n",
    "for i in range(len(affix_list)):\n",
    "    affix2index_dict[affix_list[i]] = i\n",
    "# affix_list"
   ]
  },
  {
   "cell_type": "code",
   "execution_count": 8,
   "metadata": {
    "collapsed": true
   },
   "outputs": [],
   "source": [
    "def GetData(vector_model = fastText_vectors):    \n",
    "    input_dim = vector_model['fawn'].shape[0]\n",
    "    input_mat = np.zeros((df_wordlist.shape[0], input_dim + len(affix_list)))\n",
    "    target_mat = np.zeros((df_wordlist.shape[0], input_dim))\n",
    "    for index, row in df_wordlist.iterrows():\n",
    "        input_mat[index, :input_dim] = vector_model[row.source]\n",
    "        input_mat[index, input_dim + affix2index_dict[row.affix]] = 1\n",
    "        target_mat[index, :] = vector_model[row.derived]\n",
    "    return input_mat, target_mat, input_dim"
   ]
  },
  {
   "cell_type": "code",
   "execution_count": 9,
   "metadata": {
    "collapsed": false
   },
   "outputs": [
    {
     "ename": "NameError",
     "evalue": "name 'input_mat' is not defined",
     "output_type": "error",
     "traceback": [
      "\u001b[1;31m---------------------------------------------------------------------------\u001b[0m",
      "\u001b[1;31mNameError\u001b[0m                                 Traceback (most recent call last)",
      "\u001b[1;32m<ipython-input-9-50d4cd25844f>\u001b[0m in \u001b[0;36m<module>\u001b[1;34m()\u001b[0m\n\u001b[1;32m----> 1\u001b[1;33m \u001b[0minput_mat\u001b[0m\u001b[1;33m\u001b[0m\u001b[0m\n\u001b[0m",
      "\u001b[1;31mNameError\u001b[0m: name 'input_mat' is not defined"
     ]
    }
   ],
   "source": [
    "input_mat"
   ]
  },
  {
   "cell_type": "markdown",
   "metadata": {},
   "source": [
    "### Neural Net Incoming"
   ]
  },
  {
   "cell_type": "code",
   "execution_count": 10,
   "metadata": {
    "collapsed": true
   },
   "outputs": [],
   "source": [
    "import tensorflow as tf\n",
    "from sklearn.model_selection import KFold, cross_val_score"
   ]
  },
  {
   "cell_type": "code",
   "execution_count": 11,
   "metadata": {
    "collapsed": true
   },
   "outputs": [],
   "source": [
    "input_mat, target_mat, input_dim = GetData(lazaridou_vectors)\n",
    "perm = np.random.permutation(input_mat.shape[0])\n",
    "input_mat = input_mat[perm, :]\n",
    "target_mat = target_mat[perm, :]"
   ]
  },
  {
   "cell_type": "code",
   "execution_count": 53,
   "metadata": {
    "collapsed": false
   },
   "outputs": [],
   "source": [
    "learning_rate = 0.001\n",
    "training_epochs = 5\n",
    "batch_size = 100\n",
    "\n",
    "n_hidden_1 = input_dim + 27 + 50\n",
    "n_input = input_dim + 54\n",
    "n_output = input_dim\n",
    "\n",
    "x = tf.placeholder('float', [None, n_input])\n",
    "y = tf.placeholder('float', [None, n_output])"
   ]
  },
  {
   "cell_type": "code",
   "execution_count": 54,
   "metadata": {
    "collapsed": true
   },
   "outputs": [],
   "source": [
    "def mperceptron(x, weights, biases):\n",
    "    layer_1 = tf.add(tf.matmul(x, weights['h1']), biases['b1'])\n",
    "    layer_1 = tf.nn.relu(layer_1)\n",
    "    \n",
    "    # layer_2 = tf.add(tf.matmul(layer_1, weights['h2']), biases['b2'])\n",
    "    # layer_2 = tf.nn.relu(layer_2)\n",
    "    \n",
    "    out_layer = tf.matmul(layer_1, weights['out']) + biases['out']\n",
    "    return out_layer"
   ]
  },
  {
   "cell_type": "code",
   "execution_count": 55,
   "metadata": {
    "collapsed": false
   },
   "outputs": [],
   "source": [
    "weights = {\n",
    "    'h1' : tf.Variable(tf.random_normal([n_input, n_hidden_1], 0, 0.001)),\n",
    "    # 'h2': tf.Variable(tf.random_normal([n_hidden_1, n_hidden_2], 0, 0.001)),\n",
    "    'out' : tf.Variable(tf.random_normal([n_hidden_1, n_output], 0, 0.001))\n",
    "}\n",
    "\n",
    "biases = {\n",
    "    'b1' : tf.Variable(tf.random_normal([n_hidden_1], 0, 0.001)),\n",
    "    # 'b2': tf.Variable(tf.random_normal([n_hidden_2], 0, 0.001)),\n",
    "    'out' : tf.Variable(tf.random_normal([n_output], 0, 0.001))\n",
    "}\n",
    "\n",
    "pred = mperceptron(x, weights, biases)"
   ]
  },
  {
   "cell_type": "code",
   "execution_count": 56,
   "metadata": {
    "collapsed": false
   },
   "outputs": [],
   "source": [
    "cost = tf.reduce_mean(tf.nn.l2_loss(pred - y))\n",
    "optimizer = tf.train.AdamOptimizer(learning_rate=learning_rate).minimize(cost)\n",
    "\n",
    "init = tf.global_variables_initializer()"
   ]
  },
  {
   "cell_type": "code",
   "execution_count": 59,
   "metadata": {
    "collapsed": false
   },
   "outputs": [
    {
     "name": "stdout",
     "output_type": "stream",
     "text": [
      "Average cosine similarity: 0.3173085904743\n",
      "Average cosine similarity: 0.32709070050371086\n",
      "Average cosine similarity: 0.32558513878967665\n",
      "Average cosine similarity: 0.3236761636585095\n",
      "Average cosine similarity: 0.32766740124204935\n"
     ]
    }
   ],
   "source": [
    "sess = tf.Session()\n",
    "k_fold = KFold(n_splits=5)\n",
    "for train_indices, test_indices in k_fold.split(input_mat):\n",
    "    # print('Train: %s | test: %s' % (train_indices, test_indices))\n",
    "    train_x = input_mat[train_indices, :]\n",
    "    train_y = target_mat[train_indices, :]\n",
    "    test_x = input_mat[test_indices, :]\n",
    "    test_y = target_mat[test_indices, :]\n",
    "    \n",
    "    sess.run(init)\n",
    "    epochs = 5\n",
    "    batches = 100\n",
    "    batch_size = int(len(train_indices)/batches)\n",
    "    for _ in range(epochs):\n",
    "        for bx in range(batches):\n",
    "            batch_indices = list(range((bx*batch_size), (bx + 1)*batch_size))\n",
    "            _, c = sess.run([optimizer, cost], \\\n",
    "                            feed_dict={x: train_x[batch_indices, :],\\\n",
    "                                       y: train_y[batch_indices, :]})\n",
    "    y_hat = sess.run(pred, feed_dict={x: test_x})\n",
    "    \n",
    "    # Check performance\n",
    "    f_cossim = lambda x, y: np.sum(x*y)/(np.linalg.norm(x)*np.linalg.norm(y))\n",
    "    cosSim_avg = 0\n",
    "    for i in range(test_y.shape[0]):\n",
    "        cosSim_avg += f_cossim(test_y[i, :], y_hat[i, :])\n",
    "    cosSim_avg /= test_y.shape[0]\n",
    "    print('Average cosine similarity: {}'.format(cosSim_avg))\n",
    "sess.close()"
   ]
  },
  {
   "cell_type": "code",
   "execution_count": null,
   "metadata": {
    "collapsed": false,
    "scrolled": true
   },
   "outputs": [],
   "source": [
    "\"\"\"\n",
    "FASTTEXT:\n",
    "Avg. cosine similarity: 0.8 @\n",
    "learning_rate = 0.008\n",
    "epochs = 5\n",
    "batches = 100\n",
    "\"\"\"\n",
    "\n",
    "\"\"\"\n",
    "Lazaridou:\n",
    "Avg. cosine similarity: 0.6 @\n",
    "learning_rate = 0.008\n",
    "epochs = 5\n",
    "batches = 100\n",
    "\"\"\""
   ]
  },
  {
   "cell_type": "code",
   "execution_count": null,
   "metadata": {
    "collapsed": false
   },
   "outputs": [],
   "source": []
  },
  {
   "cell_type": "code",
   "execution_count": null,
   "metadata": {
    "collapsed": true
   },
   "outputs": [],
   "source": []
  }
 ],
 "metadata": {
  "anaconda-cloud": {},
  "kernelspec": {
   "display_name": "Python 2",
   "language": "python",
   "name": "python2"
  },
  "language_info": {
   "codemirror_mode": {
    "name": "ipython",
    "version": 2
   },
   "file_extension": ".py",
   "mimetype": "text/x-python",
   "name": "python",
   "nbconvert_exporter": "python",
   "pygments_lexer": "ipython2",
   "version": "2.7.6"
  }
 },
 "nbformat": 4,
 "nbformat_minor": 1
}
